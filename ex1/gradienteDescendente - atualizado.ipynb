{
  "nbformat": 4,
  "nbformat_minor": 0,
  "metadata": {
    "colab": {
      "provenance": []
    },
    "kernelspec": {
      "name": "python3",
      "display_name": "Python 3"
    },
    "language_info": {
      "name": "python"
    }
  },
  "cells": [
    {
      "cell_type": "code",
      "execution_count": null,
      "metadata": {
        "id": "sFySlbfQc-mE"
      },
      "outputs": [],
      "source": [
        "import numpy as np\n",
        "import matplotlib.pyplot as plt\n",
        "import math\n",
        "%matplotlib inline"
      ]
    },
    {
      "cell_type": "code",
      "source": [
        "alpha = 0.01\n",
        "w0 = 0.1\n",
        "w1 = 0.1\n",
        "\n",
        "#valores de teste\n",
        "\n",
        "X = [0.5,2.2,2.0]\n",
        "y = [2.0,2.5,1.4]"
      ],
      "metadata": {
        "id": "atVD_kLBt6i2"
      },
      "execution_count": null,
      "outputs": []
    },
    {
      "cell_type": "code",
      "source": [
        "def fun_hat(x,w0,w1):\n",
        "  return w0 + w1 * x"
      ],
      "metadata": {
        "id": "rVutLxVU_3jq"
      },
      "execution_count": null,
      "outputs": []
    },
    {
      "cell_type": "code",
      "source": [
        "#função para o gráfico\n",
        "def plot_line(X, y, w0, w1):\n",
        "    x_values = [i for i in range(int(min(X))-1,int(max(X))+2)]\n",
        "    y_values = [fun_hat(x, w0, w1) for x in x_values]\n",
        "    plt.plot(x_values,y_values,'r')\n",
        "    plt.plot(X,y,'bo')"
      ],
      "metadata": {
        "id": "xaX_ZgemAGsi"
      },
      "execution_count": null,
      "outputs": []
    },
    {
      "cell_type": "code",
      "source": [
        "fun_hat(1.5,w0,w1)"
      ],
      "metadata": {
        "colab": {
          "base_uri": "https://localhost:8080/"
        },
        "id": "ypp_ijLQCOGl",
        "outputId": "f39d6304-a74a-4ff3-f0e2-98e3dcd71594"
      },
      "execution_count": null,
      "outputs": [
        {
          "output_type": "execute_result",
          "data": {
            "text/plain": [
              "0.25"
            ]
          },
          "metadata": {},
          "execution_count": 18
        }
      ]
    },
    {
      "cell_type": "code",
      "source": [],
      "metadata": {
        "id": "unPZqL3VK7Fm"
      },
      "execution_count": null,
      "outputs": []
    },
    {
      "cell_type": "code",
      "source": [
        "#função de custo\n",
        "\n",
        "def MSE(X,y,w0,w1):\n",
        "  custo = 0\n",
        "  m = float (len(X))\n",
        "  for i in range(0,len(X)):\n",
        "    custo = custo + (fun_hat(X[i],w0,w1)-y[i])**2\n",
        "\n",
        "  return custo/m"
      ],
      "metadata": {
        "id": "LcZvHZn5C_gK"
      },
      "execution_count": null,
      "outputs": []
    },
    {
      "cell_type": "markdown",
      "source": [
        "O método do Gradiente Descendente consiste em pequenos passos até chegar ao mínimo da função. Dependendo dos pontos e valores que se começa podem ter soluções distintas.\n",
        "\n",
        "Este método basicamente é a derivação da função de custo e com sua repetição chega-se a um custo mínimo da função.\n"
      ],
      "metadata": {
        "id": "huyWrZnmVXsk"
      }
    },
    {
      "cell_type": "code",
      "source": [
        "def gradienteDescendente(w0, w1, X, y, alpha):\n",
        "\n",
        "    erro_w0 = 0\n",
        "    erro_w1 = 0\n",
        "    m = float(len(X))\n",
        "\n",
        "    for i in range(0,len(X)):\n",
        "        erro_w0 += fun_hat(X[i], w0, w1) - y[i]\n",
        "        erro_w1 += (fun_hat(X[i], w0, w1) - y[i]) * X[i]\n",
        "\n",
        "    new_w0 = w0 - alpha * (1/m) * erro_w0\n",
        "    new_w1 = w1 - alpha * (1/m) * erro_w1\n",
        "\n",
        "    return new_w0, new_w1\n"
      ],
      "metadata": {
        "id": "DgfBj-_BLy2o"
      },
      "execution_count": null,
      "outputs": []
    },
    {
      "cell_type": "code",
      "source": [
        "repeticoes = 200"
      ],
      "metadata": {
        "id": "oP9xSj_P0Hut"
      },
      "execution_count": null,
      "outputs": []
    },
    {
      "cell_type": "code",
      "source": [
        "def gradienteLoop(w0,w1,X,y,alpha,repeticoes):\n",
        "  custo = np.zeros(repeticoes)\n",
        "  for i in range(repeticoes):\n",
        "    w0,w1 = gradienteDescendente(w0,w1,X,y,alpha)\n",
        "    custo[i] = MSE(X,y,w0,w1)\n",
        "\n",
        "  return w0,w1,custo"
      ],
      "metadata": {
        "id": "QlNBZMeb0KdX"
      },
      "execution_count": null,
      "outputs": []
    },
    {
      "cell_type": "code",
      "source": [
        "w0,w1, custo = gradienteLoop(w0,w1,X,y,alpha, repeticoes)"
      ],
      "metadata": {
        "id": "EBz7NyYtMP5j"
      },
      "execution_count": null,
      "outputs": []
    },
    {
      "cell_type": "code",
      "source": [
        "#grafico do custo\n",
        "\n",
        "fig,ax = plt.subplots()\n",
        "ax.plot(np.arange(repeticoes), custo, 'r')\n",
        "ax.set_xlabel('Iterações')\n",
        "ax.set_ylabel('Custo')\n",
        "ax.set_title('MSE vs Repetições')"
      ],
      "metadata": {
        "colab": {
          "base_uri": "https://localhost:8080/",
          "height": 489
        },
        "id": "jvoHAvX3Mhm3",
        "outputId": "183e93a2-7452-48f4-b73b-bfa8754e7d63"
      },
      "execution_count": null,
      "outputs": [
        {
          "output_type": "execute_result",
          "data": {
            "text/plain": [
              "Text(0.5, 1.0, 'MSE vs Repetições')"
            ]
          },
          "metadata": {},
          "execution_count": 24
        },
        {
          "output_type": "display_data",
          "data": {
            "text/plain": [
              "<Figure size 640x480 with 1 Axes>"
            ],
            "image/png": "[encoded data removed]"
          },
          "metadata": {}
        }
      ]
    },
    {
      "cell_type": "code",
      "source": [
        "plot_line(X,y,w0,w1)"
      ],
      "metadata": {
        "colab": {
          "base_uri": "https://localhost:8080/",
          "height": 430
        },
        "id": "H575pNhpMrqM",
        "outputId": "2a18c2d7-bb55-4870-b14e-6a83e1794775"
      },
      "execution_count": null,
      "outputs": [
        {
          "output_type": "display_data",
          "data": {
            "text/plain": [
              "<Figure size 640x480 with 1 Axes>"
            ],
            "image/png": "[encoded data removed]"
          },
          "metadata": {}
        }
      ]
    },
    {
      "cell_type": "code",
      "source": [
        "custo"
      ],
      "metadata": {
        "id": "ZDXAGR3kM8Oi",
        "outputId": "18b0f7a0-f001-4a28-bb67-d6403b5675c6",
        "colab": {
          "base_uri": "https://localhost:8080/"
        }
      },
      "execution_count": null,
      "outputs": [
        {
          "output_type": "execute_result",
          "data": {
            "text/plain": [
              "array([2.93421022, 2.75481098, 2.58898416, 2.43569679, 2.29399451,\n",
              "       2.16299563, 2.04188557, 1.92991176, 1.82637893, 1.73064474,\n",
              "       1.64211573, 1.56024364, 1.48452194, 1.41448265, 1.34969343,\n",
              "       1.28975485, 1.23429788, 1.18298158, 1.13549098, 1.09153508,\n",
              "       1.05084502, 1.01317242, 0.9782878 , 0.94597917, 0.91605065,\n",
              "       0.88832129, 0.8626239 , 0.83880403, 0.81671898, 0.79623691,\n",
              "       0.77723603, 0.75960381, 0.74323628, 0.7280374 , 0.71391842,\n",
              "       0.70079738, 0.68859852, 0.67725187, 0.66669278, 0.65686152,\n",
              "       0.6477029 , 0.63916595, 0.63120356, 0.62377221, 0.61683171,\n",
              "       0.6103449 , 0.60427747, 0.59859771, 0.59327633, 0.58828627,\n",
              "       0.58360252, 0.57920198, 0.57506331, 0.57116679, 0.5674942 ,\n",
              "       0.56402872, 0.56075478, 0.55765802, 0.55472517, 0.55194396,\n",
              "       0.54930306, 0.54679199, 0.5444011 , 0.54212143, 0.53994473,\n",
              "       0.53786337, 0.53587031, 0.53395902, 0.53212349, 0.53035816,\n",
              "       0.52865789, 0.52701793, 0.5254339 , 0.52390175, 0.52241772,\n",
              "       0.52097835, 0.51958046, 0.51822108, 0.51689749, 0.51560715,\n",
              "       0.51434774, 0.5131171 , 0.51191325, 0.51073433, 0.50957866,\n",
              "       0.50844465, 0.50733086, 0.50623594, 0.50515865, 0.50409784,\n",
              "       0.50305245, 0.50202151, 0.5010041 , 0.49999939, 0.4990066 ,\n",
              "       0.49802501, 0.49705398, 0.49609287, 0.49514113, 0.49419823,\n",
              "       0.49326368, 0.49233704, 0.4914179 , 0.49050587, 0.48960059,\n",
              "       0.48870174, 0.48780901, 0.48692213, 0.48604082, 0.48516485,\n",
              "       0.484294  , 0.48342806, 0.48256683, 0.48171014, 0.48085783,\n",
              "       0.48000974, 0.47916573, 0.47832567, 0.47748943, 0.47665691,\n",
              "       0.475828  , 0.47500259, 0.47418061, 0.47336197, 0.47254658,\n",
              "       0.47173437, 0.47092529, 0.47011925, 0.46931621, 0.46851611,\n",
              "       0.4677189 , 0.46692453, 0.46613295, 0.46534413, 0.46455802,\n",
              "       0.46377459, 0.4629938 , 0.46221562, 0.46144003, 0.46066698,\n",
              "       0.45989646, 0.45912844, 0.4583629 , 0.45759981, 0.45683915,\n",
              "       0.4560809 , 0.45532504, 0.45457156, 0.45382044, 0.45307166,\n",
              "       0.4523252 , 0.45158105, 0.4508392 , 0.45009963, 0.44936233,\n",
              "       0.44862728, 0.44789448, 0.44716391, 0.44643557, 0.44570943,\n",
              "       0.44498549, 0.44426375, 0.44354418, 0.44282678, 0.44211154,\n",
              "       0.44139846, 0.44068752, 0.43997871, 0.43927203, 0.43856746,\n",
              "       0.43786501, 0.43716466, 0.4364664 , 0.43577023, 0.43507613,\n",
              "       0.43438411, 0.43369415, 0.43300625, 0.4323204 , 0.43163659,\n",
              "       0.43095482, 0.43027508, 0.42959736, 0.42892165, 0.42824796,\n",
              "       0.42757627, 0.42690657, 0.42623887, 0.42557315, 0.42490941,\n",
              "       0.42424763, 0.42358783, 0.42292998, 0.42227408, 0.42162014,\n",
              "       0.42096813, 0.42031806, 0.41966991, 0.41902369, 0.41837939])"
            ]
          },
          "metadata": {},
          "execution_count": 26
        }
      ]
    },
    {
      "cell_type": "markdown",
      "source": [
        "Conclusão: fazendo um total de 200 repetições, pode-se ver no gráfico que a reta ficou entre os 3 pontos e o custo também está bem baixo. Com isso, prova-se o objetivo do método do gradiente descendente."
      ],
      "metadata": {
        "id": "dGJWerzXUgC3"
      }
    }
  ]
}