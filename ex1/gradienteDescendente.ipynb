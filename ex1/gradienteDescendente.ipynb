{
  "cells": [
    {
      "cell_type": "code",
      "execution_count": null,
      "metadata": {
        "id": "atVD_kLBt6i2"
      },
      "outputs": [],
      "source": [
        "import numpy as np\n",
        "import matplotlib.pyplot as plt\n",
        "import math\n",
        "%matplotlib inline"
      ]
    },
    {
      "cell_type": "code",
      "execution_count": null,
      "metadata": {},
      "outputs": [],
      "source": [
        "alpha = 0.01\n",
        "w0 = 0.1\n",
        "w1 = 0.1\n",
        "\n",
        "#valores de teste\n",
        "\n",
        "X = [0.5,2.2,2.0]\n",
        "y = [2.0,2.5,1.4]"
      ]
    },
    {
      "cell_type": "code",
      "execution_count": null,
      "metadata": {
        "id": "rVutLxVU_3jq"
      },
      "outputs": [],
      "source": [
        "def fun_hat(x,w0,w1):\n",
        "  return w0 + w1 * x"
      ]
    },
    {
      "cell_type": "code",
      "execution_count": null,
      "metadata": {
        "id": "xaX_ZgemAGsi"
      },
      "outputs": [],
      "source": [
        "#função para o gráfico\n",
        "def plot_line(X, y, w0, w1):\n",
        "    x_values = [i for i in range(int(min(X))-1,int(max(X))+2)]\n",
        "    y_values = [fun_hat(x, w0, w1) for x in x_values]\n",
        "    plt.plot(x_values,y_values,'r')\n",
        "    plt.plot(X,y,'bo')"
      ]
    },
    {
      "cell_type": "code",
      "execution_count": null,
      "metadata": {
        "colab": {
          "base_uri": "https://localhost:8080/"
        },
        "id": "ypp_ijLQCOGl",
        "outputId": "3555f261-a359-4673-b3d0-6d35936ca034"
      },
      "outputs": [
        {
          "data": {
            "text/plain": [
              "0.25"
            ]
          },
          "execution_count": 103,
          "metadata": {},
          "output_type": "execute_result"
        }
      ],
      "source": [
        "fun_hat(1.5,w0,w1)"
      ]
    },
    {
      "cell_type": "code",
      "execution_count": null,
      "metadata": {
        "id": "unPZqL3VK7Fm"
      },
      "outputs": [],
      "source": []
    },
    {
      "cell_type": "code",
      "execution_count": null,
      "metadata": {
        "id": "LcZvHZn5C_gK"
      },
      "outputs": [],
      "source": [
        "#função de custo\n",
        "\n",
        "def MSE(X,y,w0,w1):\n",
        "  custo = 0\n",
        "  m = float (len(X))\n",
        "  for i in range(0,len(X)):\n",
        "    custo = custo + (fun_hat(X[i],w0,w1)-y[i])**2\n",
        "\n",
        "  return custo/m"
      ]
    },
    {
      "cell_type": "code",
      "execution_count": null,
      "metadata": {
        "id": "DgfBj-_BLy2o"
      },
      "outputs": [],
      "source": [
        "def gradienteDescendente(w0, w1, X, y, alpha):\n",
        "\n",
        "    erro_w0 = 0\n",
        "    erro_w1 = 0\n",
        "    m = float(len(X))\n",
        "\n",
        "    for i in range(0,len(X)):\n",
        "        erro_w0 += fun_hat(X[i], w0, w1) - y[i]\n",
        "        erro_w1 += (fun_hat(X[i], w0, w1) - y[i]) * X[i]\n",
        "\n",
        "    new_w0 = w0 - alpha * (1/m) * erro_w0\n",
        "    new_w1 = w1 - alpha * (1/m) * erro_w1\n",
        "\n",
        "    return new_w0, new_w1\n"
      ]
    },
    {
      "cell_type": "code",
      "execution_count": null,
      "metadata": {
        "id": "oP9xSj_P0Hut"
      },
      "outputs": [],
      "source": [
        "repeticoes = 200"
      ]
    },
    {
      "cell_type": "code",
      "execution_count": null,
      "metadata": {
        "id": "QlNBZMeb0KdX"
      },
      "outputs": [],
      "source": [
        "def gradienteLoop(w0,w1,X,y,alpha,repeticoes):\n",
        "  custo = np.zeros(repeticoes)\n",
        "  for i in range(repeticoes):\n",
        "    w0,w1 = gradienteDescendente(w0,w1,X,y,alpha)\n",
        "    custo[i] = MSE(X,y,w0,w1)\n",
        "\n",
        "  return w0,w1,custo"
      ]
    },
    {
      "cell_type": "code",
      "execution_count": null,
      "metadata": {
        "id": "EBz7NyYtMP5j"
      },
      "outputs": [],
      "source": [
        "w0,w1, custo = gradienteLoop(w0,w1,X,y,alpha, repeticoes)"
      ]
    },
    {
      "cell_type": "code",
      "execution_count": null,
      "metadata": {
        "colab": {
          "base_uri": "https://localhost:8080/"
        },
        "id": "ZDXAGR3kM8Oi",
        "outputId": "c2cdf0cc-1652-4546-fab1-0346f17af539"
      },
      "outputs": [
        {
          "data": {
            "text/plain": [
              "array([2.93421022, 2.75481098, 2.58898416, 2.43569679, 2.29399451,\n",
              "       2.16299563, 2.04188557, 1.92991176, 1.82637893, 1.73064474,\n",
              "       1.64211573, 1.56024364, 1.48452194, 1.41448265, 1.34969343,\n",
              "       1.28975485, 1.23429788, 1.18298158, 1.13549098, 1.09153508,\n",
              "       1.05084502, 1.01317242, 0.9782878 , 0.94597917, 0.91605065,\n",
              "       0.88832129, 0.8626239 , 0.83880403, 0.81671898, 0.79623691,\n",
              "       0.77723603, 0.75960381, 0.74323628, 0.7280374 , 0.71391842,\n",
              "       0.70079738, 0.68859852, 0.67725187, 0.66669278, 0.65686152,\n",
              "       0.6477029 , 0.63916595, 0.63120356, 0.62377221, 0.61683171,\n",
              "       0.6103449 , 0.60427747, 0.59859771, 0.59327633, 0.58828627,\n",
              "       0.58360252, 0.57920198, 0.57506331, 0.57116679, 0.5674942 ,\n",
              "       0.56402872, 0.56075478, 0.55765802, 0.55472517, 0.55194396,\n",
              "       0.54930306, 0.54679199, 0.5444011 , 0.54212143, 0.53994473,\n",
              "       0.53786337, 0.53587031, 0.53395902, 0.53212349, 0.53035816,\n",
              "       0.52865789, 0.52701793, 0.5254339 , 0.52390175, 0.52241772,\n",
              "       0.52097835, 0.51958046, 0.51822108, 0.51689749, 0.51560715,\n",
              "       0.51434774, 0.5131171 , 0.51191325, 0.51073433, 0.50957866,\n",
              "       0.50844465, 0.50733086, 0.50623594, 0.50515865, 0.50409784,\n",
              "       0.50305245, 0.50202151, 0.5010041 , 0.49999939, 0.4990066 ,\n",
              "       0.49802501, 0.49705398, 0.49609287, 0.49514113, 0.49419823])"
            ]
          },
          "execution_count": 111,
          "metadata": {},
          "output_type": "execute_result"
        }
      ],
      "source": [
        "custo"
      ]
    }
  ],
  "metadata": {
    "colab": {
      "provenance": []
    },
    "kernelspec": {
      "display_name": "Python 3",
      "name": "python3"
    },
    "language_info": {
      "codemirror_mode": {
        "name": "ipython",
        "version": 3
      },
      "file_extension": ".py",
      "mimetype": "text/x-python",
      "name": "python",
      "nbconvert_exporter": "python",
      "pygments_lexer": "ipython3",
      "version": "3.11.5"
    }
  },
  "nbformat": 4,
  "nbformat_minor": 0
}
